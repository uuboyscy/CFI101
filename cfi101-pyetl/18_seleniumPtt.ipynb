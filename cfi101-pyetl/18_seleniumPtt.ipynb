{
 "cells": [
  {
   "cell_type": "code",
   "execution_count": 4,
   "id": "a8561f88",
   "metadata": {},
   "outputs": [
    {
     "name": "stderr",
     "output_type": "stream",
     "text": [
      "/var/folders/bv/8bbkzq895db366kq27vw262r0000gn/T/ipykernel_64708/943817287.py:5: DeprecationWarning: executable_path has been deprecated, please pass in a Service object\n",
      "  driver = Chrome('./chromedriver')\n",
      "/var/folders/bv/8bbkzq895db366kq27vw262r0000gn/T/ipykernel_64708/943817287.py:9: DeprecationWarning: find_element_by_* commands are deprecated. Please use find_element() instead\n",
      "  driver.find_element_by_class_name('board-name').click()\n",
      "/var/folders/bv/8bbkzq895db366kq27vw262r0000gn/T/ipykernel_64708/943817287.py:11: DeprecationWarning: find_element_by_* commands are deprecated. Please use find_element() instead\n",
      "  driver.find_element_by_class_name('btn-big').click()\n"
     ]
    }
   ],
   "source": [
    "from selenium.webdriver import Chrome\n",
    "\n",
    "url = 'https://www.ptt.cc/bbs/index.html'\n",
    "\n",
    "driver = Chrome('./chromedriver')\n",
    "\n",
    "driver.get(url)\n",
    "\n",
    "driver.find_element_by_class_name('board-name').click()\n",
    "\n",
    "driver.find_element_by_class_name('btn-big').click()"
   ]
  },
  {
   "cell_type": "code",
   "execution_count": null,
   "id": "052895f5",
   "metadata": {},
   "outputs": [],
   "source": []
  }
 ],
 "metadata": {
  "kernelspec": {
   "display_name": "Python 3 (ipykernel)",
   "language": "python",
   "name": "python3"
  },
  "language_info": {
   "codemirror_mode": {
    "name": "ipython",
    "version": 3
   },
   "file_extension": ".py",
   "mimetype": "text/x-python",
   "name": "python",
   "nbconvert_exporter": "python",
   "pygments_lexer": "ipython3",
   "version": "3.8.2"
  }
 },
 "nbformat": 4,
 "nbformat_minor": 5
}
