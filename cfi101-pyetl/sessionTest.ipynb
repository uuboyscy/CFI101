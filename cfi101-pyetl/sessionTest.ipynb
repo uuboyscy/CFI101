{
 "cells": [
  {
   "cell_type": "code",
   "execution_count": 3,
   "id": "8954b971",
   "metadata": {},
   "outputs": [
    {
     "name": "stdout",
     "output_type": "stream",
     "text": [
      "{\n",
      "  \"Status\": \"OK\", \n",
      "  \"Success\": true, \n",
      "  \"td\": 0.9489777088165283\n",
      "}\n",
      "\n"
     ]
    }
   ],
   "source": [
    "import requests\n",
    "from bs4 import BeautifulSoup\n",
    "\n",
    "url = 'http://ec2-54-249-185-80.ap-northeast-1.compute.amazonaws.com/practice/cfi101-99'\n",
    "\n",
    "headers = {'user-agent': '123'}\n",
    "\n",
    "ss = requests.session()\n",
    "\n",
    "res = ss.get(url, headers=headers)\n",
    "# print(res.text)\n",
    "soup = BeautifulSoup(res.text, 'html.parser')\n",
    "key = soup.select('input')[1]['name']\n",
    "value = soup.select('input')[1]['value']\n",
    "# print(key, value)\n",
    "\n",
    "data = {key: value, 'pwd': '施丞優'}\n",
    "res = ss.post(url, data=data, headers=headers)\n",
    "print(res.text)"
   ]
  },
  {
   "cell_type": "code",
   "execution_count": null,
   "id": "405e6b26",
   "metadata": {},
   "outputs": [],
   "source": []
  }
 ],
 "metadata": {
  "kernelspec": {
   "display_name": "Python 3 (ipykernel)",
   "language": "python",
   "name": "python3"
  },
  "language_info": {
   "codemirror_mode": {
    "name": "ipython",
    "version": 3
   },
   "file_extension": ".py",
   "mimetype": "text/x-python",
   "name": "python",
   "nbconvert_exporter": "python",
   "pygments_lexer": "ipython3",
   "version": "3.8.2"
  }
 },
 "nbformat": 4,
 "nbformat_minor": 5
}
