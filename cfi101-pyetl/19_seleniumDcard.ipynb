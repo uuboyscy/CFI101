{
 "cells": [
  {
   "cell_type": "code",
   "execution_count": 1,
   "id": "362309b5",
   "metadata": {},
   "outputs": [
    {
     "name": "stderr",
     "output_type": "stream",
     "text": [
      "/var/folders/bv/8bbkzq895db366kq27vw262r0000gn/T/ipykernel_66044/873750901.py:4: DeprecationWarning: executable_path has been deprecated, please pass in a Service object\n",
      "  driver = Chrome('./chromedriver')\n",
      "/var/folders/bv/8bbkzq895db366kq27vw262r0000gn/T/ipykernel_66044/873750901.py:11: DeprecationWarning: find_element_by_* commands are deprecated. Please use find_element() instead\n",
      "  driver.find_element_by_tag_name('input').send_keys('攝影')\n",
      "/var/folders/bv/8bbkzq895db366kq27vw262r0000gn/T/ipykernel_66044/873750901.py:15: DeprecationWarning: find_element_by_* commands are deprecated. Please use find_element() instead\n",
      "  driver.find_element_by_xpath('//*[@id=\"__next\"]/div[1]/div/div[1]/div/div/form/button[2]').click()\n"
     ]
    },
    {
     "ename": "WebDriverException",
     "evalue": "Message: chrome not reachable\n  (Session info: chrome=95.0.4638.54)\nStacktrace:\n0   chromedriver                        0x000000010cdbebc9 __gxx_personality_v0 + 573977\n1   chromedriver                        0x000000010cd4b9a3 __gxx_personality_v0 + 102387\n2   chromedriver                        0x000000010c90d33f chromedriver + 172863\n3   chromedriver                        0x000000010c8fba42 chromedriver + 100930\n4   chromedriver                        0x000000010c8fc3b2 chromedriver + 103346\n5   chromedriver                        0x000000010c8fe102 chromedriver + 110850\n6   chromedriver                        0x000000010c8f6e52 chromedriver + 81490\n7   chromedriver                        0x000000010c90e913 chromedriver + 178451\n8   chromedriver                        0x000000010c9720d3 chromedriver + 585939\n9   chromedriver                        0x000000010c95ff73 chromedriver + 511859\n10  chromedriver                        0x000000010c9360e0 chromedriver + 340192\n11  chromedriver                        0x000000010c937345 chromedriver + 344901\n12  chromedriver                        0x000000010cd7bd5f __gxx_personality_v0 + 299951\n13  chromedriver                        0x000000010cd928db __gxx_personality_v0 + 393003\n14  chromedriver                        0x000000010cd9885f __gxx_personality_v0 + 417455\n15  chromedriver                        0x000000010cd9400a __gxx_personality_v0 + 398938\n16  chromedriver                        0x000000010cd7095c __gxx_personality_v0 + 253868\n17  chromedriver                        0x000000010cdaf198 __gxx_personality_v0 + 509928\n18  chromedriver                        0x000000010cdaf321 __gxx_personality_v0 + 510321\n19  chromedriver                        0x000000010cdc6108 __gxx_personality_v0 + 603992\n20  libsystem_pthread.dylib             0x00007fff204d28fc _pthread_start + 224\n21  libsystem_pthread.dylib             0x00007fff204ce443 thread_start + 15\n",
     "output_type": "error",
     "traceback": [
      "\u001b[0;31m---------------------------------------------------------------------------\u001b[0m",
      "\u001b[0;31mWebDriverException\u001b[0m                        Traceback (most recent call last)",
      "\u001b[0;32m/var/folders/bv/8bbkzq895db366kq27vw262r0000gn/T/ipykernel_66044/873750901.py\u001b[0m in \u001b[0;36m<module>\u001b[0;34m\u001b[0m\n\u001b[1;32m     21\u001b[0m \u001b[0;34m\u001b[0m\u001b[0m\n\u001b[1;32m     22\u001b[0m \u001b[0;31m# 將網頁畫面滾到最上方\u001b[0m\u001b[0;34m\u001b[0m\u001b[0;34m\u001b[0m\u001b[0;34m\u001b[0m\u001b[0m\n\u001b[0;32m---> 23\u001b[0;31m \u001b[0mdriver\u001b[0m\u001b[0;34m.\u001b[0m\u001b[0mexecute_script\u001b[0m\u001b[0;34m(\u001b[0m\u001b[0;34m'var s = document.documentElement.scrollTop=0'\u001b[0m\u001b[0;34m)\u001b[0m\u001b[0;34m\u001b[0m\u001b[0;34m\u001b[0m\u001b[0m\n\u001b[0m\u001b[1;32m     24\u001b[0m \u001b[0mtime\u001b[0m\u001b[0;34m.\u001b[0m\u001b[0msleep\u001b[0m\u001b[0;34m(\u001b[0m\u001b[0;36m5\u001b[0m\u001b[0;34m)\u001b[0m\u001b[0;34m\u001b[0m\u001b[0;34m\u001b[0m\u001b[0m\n\u001b[1;32m     25\u001b[0m \u001b[0;34m\u001b[0m\u001b[0m\n",
      "\u001b[0;32m~/PycharmProjects/cfi101-pyetl/venv/lib/python3.8/site-packages/selenium/webdriver/remote/webdriver.py\u001b[0m in \u001b[0;36mexecute_script\u001b[0;34m(self, script, *args)\u001b[0m\n\u001b[1;32m    870\u001b[0m         \u001b[0mcommand\u001b[0m \u001b[0;34m=\u001b[0m \u001b[0mCommand\u001b[0m\u001b[0;34m.\u001b[0m\u001b[0mW3C_EXECUTE_SCRIPT\u001b[0m\u001b[0;34m\u001b[0m\u001b[0;34m\u001b[0m\u001b[0m\n\u001b[1;32m    871\u001b[0m \u001b[0;34m\u001b[0m\u001b[0m\n\u001b[0;32m--> 872\u001b[0;31m         return self.execute(command, {\n\u001b[0m\u001b[1;32m    873\u001b[0m             \u001b[0;34m'script'\u001b[0m\u001b[0;34m:\u001b[0m \u001b[0mscript\u001b[0m\u001b[0;34m,\u001b[0m\u001b[0;34m\u001b[0m\u001b[0;34m\u001b[0m\u001b[0m\n\u001b[1;32m    874\u001b[0m             'args': converted_args})['value']\n",
      "\u001b[0;32m~/PycharmProjects/cfi101-pyetl/venv/lib/python3.8/site-packages/selenium/webdriver/remote/webdriver.py\u001b[0m in \u001b[0;36mexecute\u001b[0;34m(self, driver_command, params)\u001b[0m\n\u001b[1;32m    416\u001b[0m         \u001b[0mresponse\u001b[0m \u001b[0;34m=\u001b[0m \u001b[0mself\u001b[0m\u001b[0;34m.\u001b[0m\u001b[0mcommand_executor\u001b[0m\u001b[0;34m.\u001b[0m\u001b[0mexecute\u001b[0m\u001b[0;34m(\u001b[0m\u001b[0mdriver_command\u001b[0m\u001b[0;34m,\u001b[0m \u001b[0mparams\u001b[0m\u001b[0;34m)\u001b[0m\u001b[0;34m\u001b[0m\u001b[0;34m\u001b[0m\u001b[0m\n\u001b[1;32m    417\u001b[0m         \u001b[0;32mif\u001b[0m \u001b[0mresponse\u001b[0m\u001b[0;34m:\u001b[0m\u001b[0;34m\u001b[0m\u001b[0;34m\u001b[0m\u001b[0m\n\u001b[0;32m--> 418\u001b[0;31m             \u001b[0mself\u001b[0m\u001b[0;34m.\u001b[0m\u001b[0merror_handler\u001b[0m\u001b[0;34m.\u001b[0m\u001b[0mcheck_response\u001b[0m\u001b[0;34m(\u001b[0m\u001b[0mresponse\u001b[0m\u001b[0;34m)\u001b[0m\u001b[0;34m\u001b[0m\u001b[0;34m\u001b[0m\u001b[0m\n\u001b[0m\u001b[1;32m    419\u001b[0m             response['value'] = self._unwrap_value(\n\u001b[1;32m    420\u001b[0m                 response.get('value', None))\n",
      "\u001b[0;32m~/PycharmProjects/cfi101-pyetl/venv/lib/python3.8/site-packages/selenium/webdriver/remote/errorhandler.py\u001b[0m in \u001b[0;36mcheck_response\u001b[0;34m(self, response)\u001b[0m\n\u001b[1;32m    241\u001b[0m                 \u001b[0malert_text\u001b[0m \u001b[0;34m=\u001b[0m \u001b[0mvalue\u001b[0m\u001b[0;34m[\u001b[0m\u001b[0;34m'alert'\u001b[0m\u001b[0;34m]\u001b[0m\u001b[0;34m.\u001b[0m\u001b[0mget\u001b[0m\u001b[0;34m(\u001b[0m\u001b[0;34m'text'\u001b[0m\u001b[0;34m)\u001b[0m\u001b[0;34m\u001b[0m\u001b[0;34m\u001b[0m\u001b[0m\n\u001b[1;32m    242\u001b[0m             \u001b[0;32mraise\u001b[0m \u001b[0mexception_class\u001b[0m\u001b[0;34m(\u001b[0m\u001b[0mmessage\u001b[0m\u001b[0;34m,\u001b[0m \u001b[0mscreen\u001b[0m\u001b[0;34m,\u001b[0m \u001b[0mstacktrace\u001b[0m\u001b[0;34m,\u001b[0m \u001b[0malert_text\u001b[0m\u001b[0;34m)\u001b[0m  \u001b[0;31m# type: ignore[call-arg]  # mypy is not smart enough here\u001b[0m\u001b[0;34m\u001b[0m\u001b[0;34m\u001b[0m\u001b[0m\n\u001b[0;32m--> 243\u001b[0;31m         \u001b[0;32mraise\u001b[0m \u001b[0mexception_class\u001b[0m\u001b[0;34m(\u001b[0m\u001b[0mmessage\u001b[0m\u001b[0;34m,\u001b[0m \u001b[0mscreen\u001b[0m\u001b[0;34m,\u001b[0m \u001b[0mstacktrace\u001b[0m\u001b[0;34m)\u001b[0m\u001b[0;34m\u001b[0m\u001b[0;34m\u001b[0m\u001b[0m\n\u001b[0m\u001b[1;32m    244\u001b[0m \u001b[0;34m\u001b[0m\u001b[0m\n\u001b[1;32m    245\u001b[0m     \u001b[0;32mdef\u001b[0m \u001b[0m_value_or_default\u001b[0m\u001b[0;34m(\u001b[0m\u001b[0mself\u001b[0m\u001b[0;34m,\u001b[0m \u001b[0mobj\u001b[0m\u001b[0;34m:\u001b[0m \u001b[0mMapping\u001b[0m\u001b[0;34m[\u001b[0m\u001b[0m_KT\u001b[0m\u001b[0;34m,\u001b[0m \u001b[0m_VT\u001b[0m\u001b[0;34m]\u001b[0m\u001b[0;34m,\u001b[0m \u001b[0mkey\u001b[0m\u001b[0;34m:\u001b[0m \u001b[0m_KT\u001b[0m\u001b[0;34m,\u001b[0m \u001b[0mdefault\u001b[0m\u001b[0;34m:\u001b[0m \u001b[0m_VT\u001b[0m\u001b[0;34m)\u001b[0m \u001b[0;34m->\u001b[0m \u001b[0m_VT\u001b[0m\u001b[0;34m:\u001b[0m\u001b[0;34m\u001b[0m\u001b[0;34m\u001b[0m\u001b[0m\n",
      "\u001b[0;31mWebDriverException\u001b[0m: Message: chrome not reachable\n  (Session info: chrome=95.0.4638.54)\nStacktrace:\n0   chromedriver                        0x000000010cdbebc9 __gxx_personality_v0 + 573977\n1   chromedriver                        0x000000010cd4b9a3 __gxx_personality_v0 + 102387\n2   chromedriver                        0x000000010c90d33f chromedriver + 172863\n3   chromedriver                        0x000000010c8fba42 chromedriver + 100930\n4   chromedriver                        0x000000010c8fc3b2 chromedriver + 103346\n5   chromedriver                        0x000000010c8fe102 chromedriver + 110850\n6   chromedriver                        0x000000010c8f6e52 chromedriver + 81490\n7   chromedriver                        0x000000010c90e913 chromedriver + 178451\n8   chromedriver                        0x000000010c9720d3 chromedriver + 585939\n9   chromedriver                        0x000000010c95ff73 chromedriver + 511859\n10  chromedriver                        0x000000010c9360e0 chromedriver + 340192\n11  chromedriver                        0x000000010c937345 chromedriver + 344901\n12  chromedriver                        0x000000010cd7bd5f __gxx_personality_v0 + 299951\n13  chromedriver                        0x000000010cd928db __gxx_personality_v0 + 393003\n14  chromedriver                        0x000000010cd9885f __gxx_personality_v0 + 417455\n15  chromedriver                        0x000000010cd9400a __gxx_personality_v0 + 398938\n16  chromedriver                        0x000000010cd7095c __gxx_personality_v0 + 253868\n17  chromedriver                        0x000000010cdaf198 __gxx_personality_v0 + 509928\n18  chromedriver                        0x000000010cdaf321 __gxx_personality_v0 + 510321\n19  chromedriver                        0x000000010cdc6108 __gxx_personality_v0 + 603992\n20  libsystem_pthread.dylib             0x00007fff204d28fc _pthread_start + 224\n21  libsystem_pthread.dylib             0x00007fff204ce443 thread_start + 15\n"
     ]
    }
   ],
   "source": [
    "from selenium.webdriver import Chrome\n",
    "import time\n",
    "\n",
    "driver = Chrome('./chromedriver')\n",
    "url = 'https://www.dcard.tw/f'\n",
    "\n",
    "driver.get(url)\n",
    "time.sleep(5)\n",
    "\n",
    "# 在表單輸入特定關鍵字\n",
    "driver.find_element_by_tag_name('input').send_keys('攝影')\n",
    "time.sleep(5)\n",
    "\n",
    "# 按下查詢按鈕\n",
    "driver.find_element_by_xpath('//*[@id=\"__next\"]/div[1]/div/div[1]/div/div/form/button[2]').click()\n",
    "time.sleep(5)\n",
    "\n",
    "# 將網頁畫面往下滾動至離頂部 5000 高度的位子\n",
    "driver.execute_script('var s = document.documentElement.scrollTop=5000')\n",
    "time.sleep(5)\n",
    "\n",
    "# 將網頁畫面滾到最上方\n",
    "driver.execute_script('var s = document.documentElement.scrollTop=0')\n",
    "time.sleep(5)\n",
    "\n",
    "driver.execute_script('var s = document.documentElement.scrollTop=10000')\n",
    "time.sleep(5)\n",
    "\n",
    "# 取得目前的 html 字串\n",
    "html = driver.execute_script(\"return document.getElementsByTagName('html')[0].outerHTML\")\n",
    "print(html)\n",
    "\n"
   ]
  },
  {
   "cell_type": "code",
   "execution_count": null,
   "id": "8342fcf0",
   "metadata": {},
   "outputs": [],
   "source": []
  }
 ],
 "metadata": {
  "kernelspec": {
   "display_name": "Python 3 (ipykernel)",
   "language": "python",
   "name": "python3"
  },
  "language_info": {
   "codemirror_mode": {
    "name": "ipython",
    "version": 3
   },
   "file_extension": ".py",
   "mimetype": "text/x-python",
   "name": "python",
   "nbconvert_exporter": "python",
   "pygments_lexer": "ipython3",
   "version": "3.8.2"
  }
 },
 "nbformat": 4,
 "nbformat_minor": 5
}
