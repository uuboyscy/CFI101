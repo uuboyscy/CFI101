{
 "cells": [
  {
   "cell_type": "code",
   "execution_count": 2,
   "id": "e2494d32",
   "metadata": {},
   "outputs": [
    {
     "name": "stdout",
     "output_type": "stream",
     "text": [
      "\n",
      "    <!doctype html>\n",
      "    <title>Hello, World!</title>\n",
      "    <h1>Hello, your name is ?</h1>\n",
      "    <p></p>\n",
      "    <form action=\"/hello_post\" method=\"post\">\n",
      "    <label>Name:</label>\n",
      "    <input type=\"textbox\" name=\"username\">\n",
      "    <input type=\"submit\" value=\"Submit\">\n",
      "    </form>\n",
      "    \n",
      "    <h1>Hello hbvlhzjvkclxhzjvkhcxzlk !!</h1>\n",
      "    \n"
     ]
    }
   ],
   "source": [
    "import requests\n",
    "\n",
    "url = 'http://ec2-54-249-185-80.ap-northeast-1.compute.amazonaws.com/hello_post'\n",
    "\n",
    "userAgent = 'Mozilla/5.0 (Macintosh; Intel Mac OS X 10_15_7) AppleWebKit/537.36 (KHTML, like Gecko) Chrome/94.0.4606.81 Safari/537.36'\n",
    "headers = {\n",
    "    'User-Agent': userAgent\n",
    "}\n",
    "\n",
    "data = {\n",
    "    'username': 'hbvlhzjvkclxhzjvkhcxzlk'\n",
    "}\n",
    "\n",
    "res = requests.post(url, headers=headers, data=data)\n",
    "\n",
    "print(res.text)"
   ]
  },
  {
   "cell_type": "code",
   "execution_count": 5,
   "id": "66b416f0",
   "metadata": {},
   "outputs": [
    {
     "name": "stdout",
     "output_type": "stream",
     "text": [
      "{\n",
      "  \"args\": {\n",
      "    \"aaa\": \"123\", \n",
      "    \"bbb\": \"456\"\n",
      "  }, \n",
      "  \"data\": \"\", \n",
      "  \"files\": {}, \n",
      "  \"form\": {\n",
      "    \"username\": \"hbvlhzjvkclxhzjvkhcxzlk\"\n",
      "  }, \n",
      "  \"headers\": {\n",
      "    \"Accept\": \"*/*\", \n",
      "    \"Accept-Encoding\": \"gzip, deflate\", \n",
      "    \"Content-Length\": \"32\", \n",
      "    \"Content-Type\": \"application/x-www-form-urlencoded\", \n",
      "    \"Host\": \"httpbin.org\", \n",
      "    \"User-Agent\": \"huidzhlvjckxzhvjcxzl\", \n",
      "    \"X-Amzn-Trace-Id\": \"Root=1-6173af54-512716f93e3d50514664421f\"\n",
      "  }, \n",
      "  \"json\": null, \n",
      "  \"origin\": \"114.25.193.111\", \n",
      "  \"url\": \"http://httpbin.org/post?aaa=123&bbb=456\"\n",
      "}\n",
      "\n"
     ]
    }
   ],
   "source": [
    "url = 'http://httpbin.org/post?aaa=123&bbb=456'\n",
    "\n",
    "headers = {\n",
    "    'User-Agent': 'huidzhlvjckxzhvjcxzl'\n",
    "}\n",
    "\n",
    "res = requests.post(url, headers=headers, data=data)\n",
    "\n",
    "print(res.text)"
   ]
  },
  {
   "cell_type": "code",
   "execution_count": null,
   "id": "b2a02fca",
   "metadata": {},
   "outputs": [],
   "source": []
  }
 ],
 "metadata": {
  "kernelspec": {
   "display_name": "Python 3 (ipykernel)",
   "language": "python",
   "name": "python3"
  },
  "language_info": {
   "codemirror_mode": {
    "name": "ipython",
    "version": 3
   },
   "file_extension": ".py",
   "mimetype": "text/x-python",
   "name": "python",
   "nbconvert_exporter": "python",
   "pygments_lexer": "ipython3",
   "version": "3.8.2"
  }
 },
 "nbformat": 4,
 "nbformat_minor": 5
}
