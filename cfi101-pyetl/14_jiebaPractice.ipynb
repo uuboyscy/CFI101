{
 "cells": [
  {
   "cell_type": "code",
   "execution_count": 1,
   "id": "09d35be9",
   "metadata": {},
   "outputs": [
    {
     "name": "stdout",
     "output_type": "stream",
     "text": [
      "Collecting jieba\n",
      "  Using cached https://files.pythonhosted.org/packages/c6/cb/18eeb235f833b726522d7ebed54f2278ce28ba9438e3135ab0278d9792a2/jieba-0.42.1.tar.gz\n",
      "Installing collected packages: jieba\n",
      "  Running setup.py install for jieba ... \u001b[?25ldone\n",
      "\u001b[?25hSuccessfully installed jieba-0.42.1\n"
     ]
    }
   ],
   "source": [
    "!pip install jieba"
   ]
  },
  {
   "cell_type": "code",
   "execution_count": 2,
   "id": "5861ddf1",
   "metadata": {},
   "outputs": [
    {
     "name": "stderr",
     "output_type": "stream",
     "text": [
      "Building prefix dict from the default dictionary ...\n",
      "Dumping model to file cache /var/folders/bv/8bbkzq895db366kq27vw262r0000gn/T/jieba.cache\n",
      "Loading model cost 0.903 seconds.\n",
      "Prefix dict has been built successfully.\n"
     ]
    },
    {
     "name": "stdout",
     "output_type": "stream",
     "text": [
      "大家|好|，|今天|來|中|壢|AI|大|數|據|班上|課|，|覺|得|非常|開|心\n",
      "大家|好|，|今天|來|中壢|AI|大數據|班上|課|，|覺得|非常|開心\n",
      "大家|好|，|今天|來|中壢|AI|大數據|班上|課|，|覺得|非常|開心\n",
      "大家|好|，|今天|來|中壢|AI|大數據|班上|課|，|覺得|非常|開心\n"
     ]
    }
   ],
   "source": [
    "import jieba\n",
    "\n",
    "s = '大家好，今天來中壢AI大數據班上課，覺得非常開心'\n",
    "\n",
    "sCut1 = jieba.cut(s, cut_all=True)\n",
    "sCut2 = jieba.cut(s, cut_all=False)\n",
    "sCut3 = jieba.cut(s)\n",
    "sCut4 = jieba.cut_for_search(s)\n",
    "\n",
    "print('|'.join(sCut1))\n",
    "print('|'.join(sCut2))\n",
    "print('|'.join(sCut3))\n",
    "print('|'.join(sCut4))"
   ]
  },
  {
   "cell_type": "code",
   "execution_count": 3,
   "id": "0350c2af",
   "metadata": {},
   "outputs": [],
   "source": [
    "jieba.load_userdict('./mydict.txt')"
   ]
  },
  {
   "cell_type": "code",
   "execution_count": 4,
   "id": "c51defca",
   "metadata": {},
   "outputs": [
    {
     "name": "stdout",
     "output_type": "stream",
     "text": [
      "大家|好|，|今天|來|中|壢|AI|大數據班|班上|課|，|覺|得|非常|開|心\n",
      "大家|好|，|今天|來|中壢|AI|大數據班|上課|，|覺得|非常|開心\n",
      "大家|好|，|今天|來|中壢|AI|大數據班|上課|，|覺得|非常|開心\n",
      "大家|好|，|今天|來|中壢|AI|大數據班|上課|，|覺得|非常|開心\n"
     ]
    }
   ],
   "source": [
    "s = '大家好，今天來中壢AI大數據班上課，覺得非常開心'\n",
    "\n",
    "sCut1 = jieba.cut(s, cut_all=True)\n",
    "sCut2 = jieba.cut(s, cut_all=False)\n",
    "sCut3 = jieba.cut(s)\n",
    "sCut4 = jieba.cut_for_search(s)\n",
    "\n",
    "print('|'.join(sCut1))\n",
    "print('|'.join(sCut2))\n",
    "print('|'.join(sCut3))\n",
    "print('|'.join(sCut4))"
   ]
  },
  {
   "cell_type": "code",
   "execution_count": null,
   "id": "4ec36582",
   "metadata": {},
   "outputs": [],
   "source": []
  }
 ],
 "metadata": {
  "kernelspec": {
   "display_name": "Python 3 (ipykernel)",
   "language": "python",
   "name": "python3"
  },
  "language_info": {
   "codemirror_mode": {
    "name": "ipython",
    "version": 3
   },
   "file_extension": ".py",
   "mimetype": "text/x-python",
   "name": "python",
   "nbconvert_exporter": "python",
   "pygments_lexer": "ipython3",
   "version": "3.8.2"
  }
 },
 "nbformat": 4,
 "nbformat_minor": 5
}
