{
 "cells": [
  {
   "cell_type": "code",
   "execution_count": null,
   "id": "e3c9f9ab",
   "metadata": {},
   "outputs": [
    {
     "name": "stdout",
     "output_type": "stream",
     "text": [
      " * Serving Flask app '__main__' (lazy loading)\n",
      " * Environment: production\n",
      "\u001b[31m   WARNING: This is a development server. Do not use it in a production deployment.\u001b[0m\n",
      "\u001b[2m   Use a production WSGI server instead.\u001b[0m\n",
      " * Debug mode: off\n"
     ]
    },
    {
     "name": "stderr",
     "output_type": "stream",
     "text": [
      " * Running on all addresses.\n",
      "   WARNING: This is a development server. Do not use it in a production deployment.\n",
      " * Running on http://192.168.0.187:5001/ (Press CTRL+C to quit)\n",
      "127.0.0.1 - - [14/Nov/2021 11:16:07] \"GET /addFunction?x=3&y=5 HTTP/1.1\" 200 -\n"
     ]
    }
   ],
   "source": [
    "from flask import Flask, request\n",
    "\n",
    "app = Flask(__name__)\n",
    "\n",
    "@app.route('/')\n",
    "def index():\n",
    "    return 'Hello Flask!'\n",
    "\n",
    "@app.route('/hello/<username>')\n",
    "def hello(username):\n",
    "    return 'Hello {} !'.format(username)\n",
    "\n",
    "# @app.route('/get_student_list/<classid>/<year>') # RESTful API\n",
    "# def get_student_list(classid, year):\n",
    "#     sql = \"\"\"\n",
    "#         SELECT student_id, student_name \n",
    "#         FROM tibametable \n",
    "#         WHERE classid='{}'\n",
    "#             AND year='{}'\n",
    "#     \"\"\".format(classid, year)\n",
    "#     studentList = executeSQL(sql)\n",
    "#     return studentList\n",
    "\n",
    "# /hello_get?name=Allen&age=22\n",
    "@app.route('/hello_get')\n",
    "def hello_get():\n",
    "    name = request.args.get('name')\n",
    "    age = request.args.get('age')\n",
    "    \n",
    "    if name == None:\n",
    "        return 'Who are you?'\n",
    "    if age == None:\n",
    "        return 'Hello {} .'.format(name)\n",
    "    \n",
    "    return '<h1>Hello {}, you are {} years old.</h1>'.format(name, age)\n",
    "\n",
    "@app.route('/addFunction')\n",
    "def addFuntion():\n",
    "    x = request.args.get('x')\n",
    "    y = request.args.get('y')\n",
    "    return str(int(x) + int(y)) # This must be HTML string or JSON\n",
    "\n",
    "@app.route('/hello_post', methods=['GET', 'POST'])\n",
    "def hello_post():\n",
    "    outStr = \"\"\"\n",
    "    <form action=\"/hello_post\" method=\"POST\">\n",
    "        <label>What's your name?</label>\n",
    "        <input name=\"username\">\n",
    "        <button type=\"submit\">SUBMIT</button>\n",
    "    </form>\n",
    "    \"\"\"\n",
    "    requestMethod = request.method # return \"GET\" or \"POST\"\n",
    "    if requestMethod == 'POST':\n",
    "        username = request.form.get('username')\n",
    "        outStr += \"\"\"\n",
    "        <h1> Hello {} !</h1>\n",
    "        \"\"\".format(username)\n",
    "    \n",
    "    return outStr\n",
    "\n",
    "if __name__ == '__main__':\n",
    "    app.run(host='0.0.0.0', port=5001)"
   ]
  },
  {
   "cell_type": "code",
   "execution_count": null,
   "id": "6800ad81",
   "metadata": {},
   "outputs": [],
   "source": [
    "0.0.0.0/0"
   ]
  },
  {
   "cell_type": "code",
   "execution_count": null,
   "id": "6ab05d53",
   "metadata": {},
   "outputs": [],
   "source": [
    "print(__name__)"
   ]
  },
  {
   "cell_type": "code",
   "execution_count": null,
   "id": "d519a4f2",
   "metadata": {},
   "outputs": [],
   "source": [
    "import test"
   ]
  },
  {
   "cell_type": "code",
   "execution_count": null,
   "id": "5e363042",
   "metadata": {},
   "outputs": [],
   "source": [
    "test.__name__"
   ]
  },
  {
   "cell_type": "code",
   "execution_count": null,
   "id": "9b460d7b",
   "metadata": {},
   "outputs": [],
   "source": [
    "main()"
   ]
  }
 ],
 "metadata": {
  "kernelspec": {
   "display_name": "Python 3 (ipykernel)",
   "language": "python",
   "name": "python3"
  },
  "language_info": {
   "codemirror_mode": {
    "name": "ipython",
    "version": 3
   },
   "file_extension": ".py",
   "mimetype": "text/x-python",
   "name": "python",
   "nbconvert_exporter": "python",
   "pygments_lexer": "ipython3",
   "version": "3.8.2"
  }
 },
 "nbformat": 4,
 "nbformat_minor": 5
}
