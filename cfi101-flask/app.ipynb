{
 "cells": [
  {
   "cell_type": "code",
   "execution_count": null,
   "id": "c8470b80",
   "metadata": {},
   "outputs": [
    {
     "name": "stdout",
     "output_type": "stream",
     "text": [
      " * Serving Flask app '__main__' (lazy loading)\n",
      " * Environment: production\n",
      "\u001b[31m   WARNING: This is a development server. Do not use it in a production deployment.\u001b[0m\n",
      "\u001b[2m   Use a production WSGI server instead.\u001b[0m\n",
      " * Debug mode: off\n"
     ]
    },
    {
     "name": "stderr",
     "output_type": "stream",
     "text": [
      " * Running on all addresses.\n",
      "   WARNING: This is a development server. Do not use it in a production deployment.\n",
      " * Running on http://192.168.0.187:5001/ (Press CTRL+C to quit)\n",
      "127.0.0.1 - - [14/Nov/2021 11:59:19] \"GET /genseries?n=20 HTTP/1.1\" 200 -\n",
      "127.0.0.1 - - [14/Nov/2021 11:59:21] \"GET / HTTP/1.1\" 200 -\n",
      "127.0.0.1 - - [14/Nov/2021 11:59:21] \"\u001b[33mGET /favicon.ico HTTP/1.1\u001b[0m\" 404 -\n",
      "127.0.0.1 - - [14/Nov/2021 11:59:22] \"\u001b[33mGET /source/css/style.css HTTP/1.1\u001b[0m\" 404 -\n",
      "127.0.0.1 - - [14/Nov/2021 11:59:30] \"GET /static/images/logo2.png HTTP/1.1\" 200 -\n"
     ]
    }
   ],
   "source": [
    "from flask import Flask, request, jsonify\n",
    "import poker as p\n",
    "import genseries as s\n",
    "\n",
    "app = Flask(__name__)\n",
    "\n",
    "@app.route('/')\n",
    "def index():\n",
    "    return 'Hello Flask!'\n",
    "\n",
    "@app.route('/hello/<username>')\n",
    "def hello(username):\n",
    "    return 'Hello {} !'.format(username)\n",
    "\n",
    "# @app.route('/get_student_list/<classid>/<year>') # RESTful API\n",
    "# def get_student_list(classid, year):\n",
    "#     sql = \"\"\"\n",
    "#         SELECT student_id, student_name \n",
    "#         FROM tibametable \n",
    "#         WHERE classid='{}'\n",
    "#             AND year='{}'\n",
    "#     \"\"\".format(classid, year)\n",
    "#     studentList = executeSQL(sql)\n",
    "#     return studentList\n",
    "\n",
    "# /hello_get?name=Allen&age=22\n",
    "@app.route('/hello_get')\n",
    "def hello_get():\n",
    "    name = request.args.get('name')\n",
    "    age = request.args.get('age')\n",
    "    \n",
    "    if name == None:\n",
    "        return 'Who are you?'\n",
    "    if age == None:\n",
    "        return 'Hello {} .'.format(name)\n",
    "    \n",
    "    return '<h1>Hello {}, you are {} years old.</h1>'.format(name, age)\n",
    "\n",
    "@app.route('/addFunction')\n",
    "def addFuntion():\n",
    "    x = request.args.get('x')\n",
    "    y = request.args.get('y')\n",
    "    return str(int(x) + int(y)) # This must be HTML string or JSON\n",
    "\n",
    "@app.route('/hello_post', methods=['GET', 'POST'])\n",
    "def hello_post():\n",
    "    outStr = \"\"\"\n",
    "    <form action=\"/hello_post\" method=\"POST\">\n",
    "        <label>What's your name?</label>\n",
    "        <input name=\"username\">\n",
    "        <button type=\"submit\">SUBMIT</button>\n",
    "    </form>\n",
    "    \"\"\"\n",
    "    requestMethod = request.method # return \"GET\" or \"POST\"\n",
    "    if requestMethod == 'POST':\n",
    "        username = request.form.get('username')\n",
    "        outStr += \"\"\"\n",
    "        <h1> Hello {} !</h1>\n",
    "        \"\"\".format(username)\n",
    "    \n",
    "    return outStr\n",
    "\n",
    "# /poker?players=5\n",
    "@app.route('/poker')\n",
    "def poker():\n",
    "    players = int(request.args.get('players'))\n",
    "    result = p.poker(players) # JSON\n",
    "    return jsonify(result)\n",
    "\n",
    "# http://localhost:5001/genseries?n=8\n",
    "@app.route('/genseries')\n",
    "def genseries():\n",
    "    n = int(request.args.get('n'))\n",
    "    result = s.Func(n) # Return INT\n",
    "    return str(result)\n",
    "\n",
    "if __name__ == '__main__':\n",
    "    app.run(host='0.0.0.0', port=5001)"
   ]
  },
  {
   "cell_type": "code",
   "execution_count": null,
   "id": "3b830eaa",
   "metadata": {},
   "outputs": [],
   "source": [
    "0.0.0.0/0"
   ]
  },
  {
   "cell_type": "code",
   "execution_count": null,
   "id": "ba256849",
   "metadata": {},
   "outputs": [],
   "source": [
    "print(__name__)"
   ]
  },
  {
   "cell_type": "code",
   "execution_count": null,
   "id": "cbc4d4b9",
   "metadata": {},
   "outputs": [],
   "source": [
    "import test"
   ]
  },
  {
   "cell_type": "code",
   "execution_count": null,
   "id": "3ebe69ce",
   "metadata": {},
   "outputs": [],
   "source": [
    "test.__name__"
   ]
  },
  {
   "cell_type": "code",
   "execution_count": null,
   "id": "fdb32716",
   "metadata": {},
   "outputs": [],
   "source": [
    "main()"
   ]
  },
  {
   "cell_type": "code",
   "execution_count": 15,
   "id": "ac620df4",
   "metadata": {},
   "outputs": [
    {
     "name": "stdout",
     "output_type": "stream",
     "text": [
      "Player_1\n",
      "['Club_9', 'Club_8', 'Club_5', 'Club_4', 'Club_1', 'Diamond_13', 'Heart_3', 'Heart_10', 'Spade_11', 'Spade_13', 'Spade_8']\n",
      "\n",
      "Player_2\n",
      "['Club_13', 'Club_10', 'Club_11', 'Club_7', 'Diamond_4', 'Diamond_7', 'Heart_13', 'Heart_4', 'Heart_12', 'Spade_12', 'Spade_1']\n",
      "\n",
      "Player_3\n",
      "['Club_2', 'Diamond_12', 'Diamond_1', 'Diamond_6', 'Diamond_5', 'Diamond_3', 'Heart_5', 'Heart_11', 'Heart_7', 'Spade_2']\n",
      "\n",
      "Player_4\n",
      "['Club_6', 'Diamond_8', 'Diamond_10', 'Diamond_11', 'Heart_8', 'Heart_1', 'Spade_6', 'Spade_10', 'Spade_5', 'Spade_7']\n",
      "\n",
      "Player_5\n",
      "['Club_3', 'Club_12', 'Diamond_2', 'Diamond_9', 'Heart_9', 'Heart_6', 'Heart_2', 'Spade_3', 'Spade_9', 'Spade_4']\n",
      "\n"
     ]
    }
   ],
   "source": [
    "import random\n",
    "\n",
    "def poker(player):\n",
    "    PLAYER = player\n",
    "    player_cards = {'Player_%s'%(i+1): list() for i in range(0,PLAYER)}\n",
    "\n",
    "    # Generate 52 poker cards\n",
    "    style_list = ['Spade', 'Heart', 'Diamond', 'Club']\n",
    "    poker_list = ['%s_%s'%(style_list[int(i%4)], int(i/4) + 1) for i in range(0, 52)]\n",
    "\n",
    "    # Shuffling\n",
    "    random_poker_list = []\n",
    "    while len(poker_list) > 0:\n",
    "        choice = random.randint(0, len(poker_list)-1)\n",
    "        random_poker_list.append(poker_list[choice])\n",
    "        del poker_list[choice]\n",
    "\n",
    "    # Distributing\n",
    "    for n, c in enumerate(random_poker_list):\n",
    "        player_cards['Player_%s' % (n % PLAYER + 1)].append(c)\n",
    "\n",
    "    return player_cards\n",
    "\n",
    "if __name__ == '__main__':\n",
    "    player_cards = poker(5)\n",
    "\n",
    "    # Order and print\n",
    "    for i in player_cards:\n",
    "        player_cards[i].sort(key=lambda x: x.split('_')[0])\n",
    "        print(i)\n",
    "        print(player_cards[i])\n",
    "        print()"
   ]
  },
  {
   "cell_type": "code",
   "execution_count": 16,
   "id": "8c4e0e5e",
   "metadata": {},
   "outputs": [
    {
     "data": {
      "text/plain": [
       "{'Player_1': ['Heart_12',\n",
       "  'Heart_7',\n",
       "  'Diamond_12',\n",
       "  'Spade_4',\n",
       "  'Spade_12',\n",
       "  'Spade_1',\n",
       "  'Spade_7',\n",
       "  'Spade_11',\n",
       "  'Diamond_6',\n",
       "  'Diamond_10',\n",
       "  'Heart_3'],\n",
       " 'Player_2': ['Club_4',\n",
       "  'Spade_8',\n",
       "  'Club_7',\n",
       "  'Diamond_9',\n",
       "  'Club_13',\n",
       "  'Heart_1',\n",
       "  'Diamond_7',\n",
       "  'Diamond_1',\n",
       "  'Club_2',\n",
       "  'Heart_5',\n",
       "  'Club_5'],\n",
       " 'Player_3': ['Spade_2',\n",
       "  'Heart_10',\n",
       "  'Club_3',\n",
       "  'Diamond_5',\n",
       "  'Spade_3',\n",
       "  'Diamond_8',\n",
       "  'Heart_13',\n",
       "  'Heart_9',\n",
       "  'Spade_6',\n",
       "  'Diamond_3'],\n",
       " 'Player_4': ['Spade_9',\n",
       "  'Diamond_2',\n",
       "  'Club_11',\n",
       "  'Spade_13',\n",
       "  'Club_6',\n",
       "  'Club_1',\n",
       "  'Diamond_4',\n",
       "  'Club_9',\n",
       "  'Club_10',\n",
       "  'Heart_2'],\n",
       " 'Player_5': ['Heart_4',\n",
       "  'Heart_11',\n",
       "  'Club_8',\n",
       "  'Spade_10',\n",
       "  'Spade_5',\n",
       "  'Heart_8',\n",
       "  'Diamond_11',\n",
       "  'Heart_6',\n",
       "  'Club_12',\n",
       "  'Diamond_13']}"
      ]
     },
     "execution_count": 16,
     "metadata": {},
     "output_type": "execute_result"
    }
   ],
   "source": [
    "poker(5)"
   ]
  },
  {
   "cell_type": "code",
   "execution_count": null,
   "id": "624e3f81",
   "metadata": {},
   "outputs": [],
   "source": []
  }
 ],
 "metadata": {
  "kernelspec": {
   "display_name": "Python 3 (ipykernel)",
   "language": "python",
   "name": "python3"
  },
  "language_info": {
   "codemirror_mode": {
    "name": "ipython",
    "version": 3
   },
   "file_extension": ".py",
   "mimetype": "text/x-python",
   "name": "python",
   "nbconvert_exporter": "python",
   "pygments_lexer": "ipython3",
   "version": "3.8.2"
  }
 },
 "nbformat": 4,
 "nbformat_minor": 5
}
