{
 "cells": [
  {
   "cell_type": "code",
   "execution_count": 1,
   "id": "8685e19b",
   "metadata": {},
   "outputs": [
    {
     "name": "stdout",
     "output_type": "stream",
     "text": [
      "Collecting pymysql\n",
      "  Using cached https://files.pythonhosted.org/packages/4f/52/a115fe175028b058df353c5a3d5290b71514a83f67078a6482cff24d6137/PyMySQL-1.0.2-py3-none-any.whl\n",
      "Installing collected packages: pymysql\n",
      "Successfully installed pymysql-1.0.2\n"
     ]
    }
   ],
   "source": [
    "!pip install pymysql"
   ]
  },
  {
   "cell_type": "code",
   "execution_count": 9,
   "id": "450524cf",
   "metadata": {},
   "outputs": [],
   "source": [
    "import pymysql\n",
    "\n",
    "connInfo = {\n",
    "    'host': 'localhost',\n",
    "    'port': 3306,\n",
    "    'user': 'root',\n",
    "    'passwd': 'root',\n",
    "    'db': 'TESTDB',\n",
    "    'charset': 'utf8mb4'\n",
    "}"
   ]
  },
  {
   "cell_type": "code",
   "execution_count": 10,
   "id": "5ba6a634",
   "metadata": {},
   "outputs": [],
   "source": [
    "conn = pymysql.connect(**connInfo)"
   ]
  },
  {
   "cell_type": "code",
   "execution_count": 11,
   "id": "2c2c40da",
   "metadata": {},
   "outputs": [],
   "source": [
    "cursor = conn.cursor()"
   ]
  },
  {
   "cell_type": "code",
   "execution_count": 12,
   "id": "e2a51e48",
   "metadata": {},
   "outputs": [
    {
     "data": {
      "text/plain": [
       "0"
      ]
     },
     "execution_count": 12,
     "metadata": {},
     "output_type": "execute_result"
    }
   ],
   "source": [
    "cursor.execute(\"SELECT * FROM Staff\")"
   ]
  },
  {
   "cell_type": "code",
   "execution_count": 13,
   "id": "28b98dfc",
   "metadata": {},
   "outputs": [],
   "source": [
    "sql = \"\"\"\n",
    "INSERT INTO Staff (ID, Name, DeptId, Age, Gender, Salary, recordDt)\n",
    "VALUES ('001', 'Mike', '002', 45, 'M', 60000, '2020-04-24 14:59:57');\n",
    "\"\"\""
   ]
  },
  {
   "cell_type": "code",
   "execution_count": 14,
   "id": "0256b708",
   "metadata": {},
   "outputs": [
    {
     "data": {
      "text/plain": [
       "1"
      ]
     },
     "execution_count": 14,
     "metadata": {},
     "output_type": "execute_result"
    }
   ],
   "source": [
    "cursor.execute(sql)"
   ]
  },
  {
   "cell_type": "code",
   "execution_count": 15,
   "id": "a4f960d0",
   "metadata": {},
   "outputs": [],
   "source": [
    "conn.commit()"
   ]
  },
  {
   "cell_type": "code",
   "execution_count": 16,
   "id": "903f4f39",
   "metadata": {},
   "outputs": [],
   "source": [
    "sql = \"\"\"\n",
    "SELECT ID, Name, DeptId, Age, Gender, Salary, recordDt FROM Staff\n",
    "\"\"\""
   ]
  },
  {
   "cell_type": "code",
   "execution_count": 17,
   "id": "35e19753",
   "metadata": {},
   "outputs": [
    {
     "data": {
      "text/plain": [
       "1"
      ]
     },
     "execution_count": 17,
     "metadata": {},
     "output_type": "execute_result"
    }
   ],
   "source": [
    "cursor.execute(sql)"
   ]
  },
  {
   "cell_type": "code",
   "execution_count": 18,
   "id": "83bb9c23",
   "metadata": {},
   "outputs": [
    {
     "data": {
      "text/plain": [
       "(('001',\n",
       "  'Mike',\n",
       "  '002',\n",
       "  45,\n",
       "  'M',\n",
       "  60000,\n",
       "  datetime.datetime(2020, 4, 24, 14, 59, 57)),)"
      ]
     },
     "execution_count": 18,
     "metadata": {},
     "output_type": "execute_result"
    }
   ],
   "source": [
    "cursor.fetchall()"
   ]
  },
  {
   "cell_type": "code",
   "execution_count": 19,
   "id": "a7ef23de",
   "metadata": {},
   "outputs": [
    {
     "data": {
      "text/plain": [
       "()"
      ]
     },
     "execution_count": 19,
     "metadata": {},
     "output_type": "execute_result"
    }
   ],
   "source": [
    "cursor.fetchall()"
   ]
  },
  {
   "cell_type": "code",
   "execution_count": 20,
   "id": "1bc24483",
   "metadata": {},
   "outputs": [
    {
     "data": {
      "text/plain": [
       "1"
      ]
     },
     "execution_count": 20,
     "metadata": {},
     "output_type": "execute_result"
    }
   ],
   "source": [
    "cursor.execute(sql)"
   ]
  },
  {
   "cell_type": "code",
   "execution_count": 21,
   "id": "f453e820",
   "metadata": {},
   "outputs": [],
   "source": [
    "result = cursor.fetchall()"
   ]
  },
  {
   "cell_type": "code",
   "execution_count": 22,
   "id": "66f805dc",
   "metadata": {},
   "outputs": [
    {
     "data": {
      "text/plain": [
       "(('001',\n",
       "  'Mike',\n",
       "  '002',\n",
       "  45,\n",
       "  'M',\n",
       "  60000,\n",
       "  datetime.datetime(2020, 4, 24, 14, 59, 57)),)"
      ]
     },
     "execution_count": 22,
     "metadata": {},
     "output_type": "execute_result"
    }
   ],
   "source": [
    "result"
   ]
  },
  {
   "cell_type": "code",
   "execution_count": 26,
   "id": "b518250c",
   "metadata": {},
   "outputs": [
    {
     "data": {
      "text/plain": [
       "'2020-59-24 14:04:57'"
      ]
     },
     "execution_count": 26,
     "metadata": {},
     "output_type": "execute_result"
    }
   ],
   "source": [
    "import datetime\n",
    "\n",
    "result[0][6].strftime(\"%Y-%M-%d %H:%m:%S\")"
   ]
  },
  {
   "cell_type": "code",
   "execution_count": 27,
   "id": "60601afc",
   "metadata": {},
   "outputs": [
    {
     "data": {
      "text/plain": [
       "1"
      ]
     },
     "execution_count": 27,
     "metadata": {},
     "output_type": "execute_result"
    }
   ],
   "source": [
    "cursor.execute(\"DELETE FROM Staff\")"
   ]
  },
  {
   "cell_type": "code",
   "execution_count": 28,
   "id": "94b000c4",
   "metadata": {},
   "outputs": [],
   "source": [
    "conn.commit()"
   ]
  },
  {
   "cell_type": "code",
   "execution_count": 29,
   "id": "19d06d70",
   "metadata": {
    "scrolled": true
   },
   "outputs": [
    {
     "data": {
      "text/plain": [
       "{'001': {'ID': '001',\n",
       "  'Name': 'Mike',\n",
       "  'DeptId': '002',\n",
       "  'Age': '45',\n",
       "  'Gender': 'M',\n",
       "  'Salary': '60000'},\n",
       " '002': {'ID': '002',\n",
       "  'Name': 'Judy',\n",
       "  'DeptId': '002',\n",
       "  'Age': '30',\n",
       "  'Gender': 'F',\n",
       "  'Salary': '48000'},\n",
       " '003': {'ID': '003',\n",
       "  'Name': 'Allen',\n",
       "  'DeptId': '001',\n",
       "  'Age': '22',\n",
       "  'Gender': 'M',\n",
       "  'Salary': '50000'},\n",
       " '004': {'ID': '004',\n",
       "  'Name': 'Tom',\n",
       "  'DeptId': '002',\n",
       "  'Age': '47',\n",
       "  'Gender': 'M',\n",
       "  'Salary': '47000'},\n",
       " '005': {'ID': '005',\n",
       "  'Name': 'Jack',\n",
       "  'DeptId': '003',\n",
       "  'Age': '36',\n",
       "  'Gender': 'M',\n",
       "  'Salary': '52000'},\n",
       " '006': {'ID': '006',\n",
       "  'Name': 'Abby',\n",
       "  'DeptId': '002',\n",
       "  'Age': '24',\n",
       "  'Gender': 'F',\n",
       "  'Salary': '45000'},\n",
       " '007': {'ID': '007',\n",
       "  'Name': 'Trump',\n",
       "  'DeptId': '001',\n",
       "  'Age': '80',\n",
       "  'Gender': 'M',\n",
       "  'Salary': '80000'},\n",
       " '008': {'ID': '008',\n",
       "  'Name': 'Marry',\n",
       "  'DeptId': '003',\n",
       "  'Age': '29',\n",
       "  'Gender': 'F',\n",
       "  'Salary': '87000'}}"
      ]
     },
     "execution_count": 29,
     "metadata": {},
     "output_type": "execute_result"
    }
   ],
   "source": [
    "import json\n",
    "import time\n",
    "\n",
    "path = 'Staff.json'\n",
    "with open(path, 'r', encoding='utf-8') as f:\n",
    "    jsondata = json.loads(f.read())\n",
    "\n",
    "jsondata"
   ]
  },
  {
   "cell_type": "code",
   "execution_count": 30,
   "id": "97b910fb",
   "metadata": {},
   "outputs": [],
   "source": [
    "sql_insert = \"\"\"\n",
    "INSERT INTO Staff (ID, Name, DeptId, Age, Gender, Salary, recordDt)\n",
    "VALUES (%s, %s, %s, %s, %s, %s, %s);\n",
    "\"\"\""
   ]
  },
  {
   "cell_type": "code",
   "execution_count": 31,
   "id": "a75ad544",
   "metadata": {},
   "outputs": [
    {
     "data": {
      "text/plain": [
       "[('001', 'Mike', '002', '45', 'M', '60000', '2021-11-14 15:36:46'),\n",
       " ('002', 'Judy', '002', '30', 'F', '48000', '2021-11-14 15:36:46'),\n",
       " ('003', 'Allen', '001', '22', 'M', '50000', '2021-11-14 15:36:46'),\n",
       " ('004', 'Tom', '002', '47', 'M', '47000', '2021-11-14 15:36:46'),\n",
       " ('005', 'Jack', '003', '36', 'M', '52000', '2021-11-14 15:36:46'),\n",
       " ('006', 'Abby', '002', '24', 'F', '45000', '2021-11-14 15:36:46'),\n",
       " ('007', 'Trump', '001', '80', 'M', '80000', '2021-11-14 15:36:46'),\n",
       " ('008', 'Marry', '003', '29', 'F', '87000', '2021-11-14 15:36:46')]"
      ]
     },
     "execution_count": 31,
     "metadata": {},
     "output_type": "execute_result"
    }
   ],
   "source": [
    "import time\n",
    "t = time.strftime('%Y-%m-%d %H:%M:%S', time.localtime())\n",
    "values = [tuple(jsondata[d].values()) + (t,) for d in jsondata]\n",
    "values"
   ]
  },
  {
   "cell_type": "code",
   "execution_count": 32,
   "id": "67b8a7ea",
   "metadata": {},
   "outputs": [
    {
     "data": {
      "text/plain": [
       "8"
      ]
     },
     "execution_count": 32,
     "metadata": {},
     "output_type": "execute_result"
    }
   ],
   "source": [
    "cursor.executemany(sql_insert, values)"
   ]
  },
  {
   "cell_type": "code",
   "execution_count": 33,
   "id": "57b51fff",
   "metadata": {},
   "outputs": [],
   "source": [
    "conn.commit()"
   ]
  },
  {
   "cell_type": "code",
   "execution_count": null,
   "id": "024da16d",
   "metadata": {},
   "outputs": [],
   "source": []
  }
 ],
 "metadata": {
  "kernelspec": {
   "display_name": "Python 3 (ipykernel)",
   "language": "python",
   "name": "python3"
  },
  "language_info": {
   "codemirror_mode": {
    "name": "ipython",
    "version": 3
   },
   "file_extension": ".py",
   "mimetype": "text/x-python",
   "name": "python",
   "nbconvert_exporter": "python",
   "pygments_lexer": "ipython3",
   "version": "3.8.2"
  }
 },
 "nbformat": 4,
 "nbformat_minor": 5
}
